{
 "cells": [
  {
   "cell_type": "markdown",
   "id": "8129ea78-4153-4529-a44c-0701928c19b8",
   "metadata": {},
   "source": [
    "# SAE S2.02 : Exploration algorithmique d'un problème - Étape 1 : prise en main des données, importation, préparation\n",
    "## Hoarau Erwan, Lalanne Victor TD2, TP4\n",
    "Voici le programme nous permettant de prendre en mains les données des rues de Bayonne.\n",
    "Vous verrez qu'il est divisé en 3 : \n",
    "- Une partie avec de l'exploitation de dataframes.\n",
    "- Une partie avec de l'exploitation avec des dictionnaires et des array (comme demandé dans la consigne).\n",
    "- Une partie avec la création du squelette de la matrice d'adjacence. \n",
    "### Importation des bibliothèques et des fichers que nous allons utiliser"
   ]
  },
  {
   "cell_type": "code",
   "execution_count": null,
   "id": "e71e2af2-1a9f-4e36-880e-96adf2c5e178",
   "metadata": {},
   "outputs": [],
   "source": [
    "#importation des modules\n",
    "import pandas as pd\n",
    "import numpy as np\n",
    "from math import acos, pi, sin, cos\n",
    "import os  \n",
    "\n",
    "os.chdir(\"x\\x\\x\") #les x\\x sont à remplacer par le chemin d'accès au fichier\n",
    "\n",
    "aretes = pd.read_csv(\"aretes.csv\", sep=\";\", decimal=\".\", index_col=\"id_arete\", encoding=\"latin1\")\n",
    "points = pd.read_csv(\"points.csv\", sep=\";\", decimal=\".\", index_col=\"id_points\", encoding=\"latin1\")\n",
    "\n",
    "# Conversion des données en dictionnaires\n",
    "aretes_dict = aretes.set_index(\"id_arete\").T.to_dict()\n",
    "points_dict = points.set_index(\"id_points\")[[\"lat\", \"lon\"]].T.to_dict()\n",
    "# Liste des ID valides\n",
    "id_valides = set(points[\"id_points\"].tolist())"
   ]
  },
  {
   "cell_type": "markdown",
   "id": "663c96c0-4c40-4a20-b1c5-e6a45115e1e6",
   "metadata": {},
   "source": [
    "Nous importons d'abord les bibliothèques qui nous seront utiles :\n",
    "- *numpy* pour faire les matrices et les calculs sur celles-ci\n",
    "- *pandas* pour lire les fichiers qui nous sont donnés et créer des dataframels\n",
    "- *os* pour récupérer le chemin des fichiers et exécuter des commandes Windows\n",
    "- *math* pour réaliser des calculs\n",
    "\n",
    "On ouvre ensuite les dataframe aretes et points pour récupérer les informations dans les fichiers donnés, que l'on transforme en dictionnaires en entrant les données par transposition et on créé la liste pour les id valide *id_valides*\n",
    "## Nous faisons le tri dans les sommets \n"
   ]
  },
  {
   "cell_type": "code",
   "execution_count": null,
   "id": "539e2b0a",
   "metadata": {},
   "outputs": [],
   "source": [
    "# Nettoyage des sommets pour ne garder que les premiers et derniers de chaque arc\n",
    "pointInArc = []\n",
    "for way in aretes_dict.values():\n",
    "    temp = [int(i.strip()) for i in way['lstpoints'][1:-1].split(',') if int(i.strip()) in id_valides]\n",
    "    if temp:\n",
    "        if temp[0] not in pointInArc:\n",
    "            pointInArc.append(temp[0])\n",
    "        if temp[-1] not in pointInArc:\n",
    "            pointInArc.append(temp[-1])"
   ]
  },
  {
   "cell_type": "markdown",
   "id": "c1240873",
   "metadata": {},
   "source": [
    "### Première fonction : Calculer la distance entre deux sommets"
   ]
  },
  {
   "cell_type": "code",
   "execution_count": null,
   "id": "dee50d66",
   "metadata": {},
   "outputs": [],
   "source": [
    "\n",
    "# Fonction pour calculer la distance GPS\n",
    "def distanceGPS(latA, latB, lonA, lonB):\n",
    "    ltA, ltB = latA * pi / 180, latB * pi / 180\n",
    "    loA, loB = lonA * pi / 180, lonB * pi / 180\n",
    "    RT = 6378137  # Rayon de la Terre en mètres\n",
    "    S = acos(round(sin(ltA) * sin(ltB) + cos(ltA) * cos(ltB) * cos(abs(loB - loA)), 14))\n",
    "    return S * RT"
   ]
  },
  {
   "cell_type": "markdown",
   "id": "569cc354",
   "metadata": {},
   "source": [
    "### Fonction pour calculer la distance entre 2 sommets sans \"vol d'oiseau\""
   ]
  },
  {
   "cell_type": "code",
   "execution_count": null,
   "id": "32849ce6-2621-49f7-9d97-46980f829df7",
   "metadata": {},
   "outputs": [],
   "source": [
    "# Fonction pour calculer la distance entre deux sommets\n",
    "def distanceSommet(pred, succ):\n",
    "    for arete in aretes_dict.values():\n",
    "        points_liste = [int(p.strip()) for p in arete['lstpoints'][1:-1].split(',') if int(p.strip()) in id_valides]\n",
    "        if points_liste and points_liste[0] == pred and points_liste[-1] == succ:\n",
    "            return sum(\n",
    "                distanceGPS(\n",
    "                    points_dict[points_liste[i]]['lat'],\n",
    "                    points_dict[points_liste[i+1]]['lat'],\n",
    "                    points_dict[points_liste[i]]['lon'],\n",
    "                    points_dict[points_liste[i+1]]['lon']\n",
    "                ) for i in range(len(points_liste) - 1)\n",
    "            )\n",
    "    return float('inf')"
   ]
  },
  {
   "cell_type": "markdown",
   "id": "f2b58794-ed60-4df7-9c5e-d7097831d5c8",
   "metadata": {},
   "source": [
    "On créé le dictionnaire des successeurs : "
   ]
  },
  {
   "cell_type": "code",
   "execution_count": null,
   "id": "92e1e771-300e-4480-89da-d1c07909ae6b",
   "metadata": {},
   "outputs": [],
   "source": [
    "# Construction du dictionnaire des successeurs\n",
    "successeurs = {point: [] for point in pointInArc}\n",
    "for arete in aretes_dict.values():\n",
    "    points_liste = [int(p.strip()) for p in arete['lstpoints'][1:-1].split(',') if int(p.strip()) in pointInArc]\n",
    "    if len(points_liste) >= 2:\n",
    "        if points_liste[-1] not in successeurs[points_liste[0]]:\n",
    "            successeurs[points_liste[0]].append(points_liste[-1])\n",
    "        if points_liste[0] not in successeurs[points_liste[-1]]:\n",
    "            successeurs[points_liste[-1]].append(points_liste[0])"
   ]
  },
  {
   "cell_type": "markdown",
   "id": "bb7cc5ad",
   "metadata": {},
   "source": [
    "## Création de la matrice d'adjacence et de poids"
   ]
  },
  {
   "cell_type": "code",
   "execution_count": null,
   "id": "92f90c7d",
   "metadata": {},
   "outputs": [],
   "source": [
    "# Construction de la matrice d'adjacence et de poids\n",
    "taille = len(pointInArc)\n",
    "mat_adj = np.zeros((taille, taille), dtype=int)\n",
    "mat_poids = np.full((taille, taille), float('inf'))\n",
    "\n",
    "id_list = list(pointInArc)\n",
    "for pred, succs in successeurs.items():\n",
    "    for succ in succs:\n",
    "        pred_idx, succ_idx = id_list.index(pred), id_list.index(succ)\n",
    "        mat_adj[pred_idx, succ_idx] = 1\n",
    "        mat_adj[succ_idx, pred_idx] = 1\n",
    "        dist = distanceSommet(pred, succ)\n",
    "        mat_poids[pred_idx, succ_idx] = dist\n",
    "        mat_poids[succ_idx, pred_idx] = dist"
   ]
  },
  {
   "cell_type": "markdown",
   "id": "43cba40e",
   "metadata": {},
   "source": [
    "## On convertie la matrice en dataframe"
   ]
  },
  {
   "cell_type": "code",
   "execution_count": null,
   "id": "8fe3815d",
   "metadata": {},
   "outputs": [],
   "source": [
    "# Conversion en DataFrame\n",
    "mat_adj_df = pd.DataFrame(mat_adj, index=id_list, columns=id_list)\n",
    "mat_poids_df = pd.DataFrame(mat_poids, index=id_list, columns=id_list)\n",
    "\n",
    "# Nettoyage des données inutiles\n",
    "del id_valides, aretes, points, id_list, succ, pred, way, pred_idx, succ_idx, taille, temp, succs, points_liste, dist"
   ]
  }
 ],
 "metadata": {
  "kernelspec": {
   "display_name": "Python 3 (ipykernel)",
   "language": "python",
   "name": "python3"
  },
  "language_info": {
   "codemirror_mode": {
    "name": "ipython",
    "version": 3
   },
   "file_extension": ".py",
   "mimetype": "text/x-python",
   "name": "python",
   "nbconvert_exporter": "python",
   "pygments_lexer": "ipython3",
   "version": "3.11.7"
  }
 },
 "nbformat": 4,
 "nbformat_minor": 5
}
