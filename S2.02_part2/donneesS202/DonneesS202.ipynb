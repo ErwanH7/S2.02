{
 "cells": [
  {
   "cell_type": "markdown",
   "id": "7b37a9c2-1ad6-4e96-ad98-45ac32268a62",
   "metadata": {},
   "source": [
    "# Récupération des données du graphe\n",
    "### Quatre fichiers tabulaires **csv** : \n",
    "* **aretes.csv** : les lignes correspondent aux arêtes, comme dans le fichier original. Quelque lignes ont été supprimées (celles dont les points sortaient du cadre défini et n'avaient pas de correspondances dans le fichier points, celles dont le point de départ était égal au point d'arrivée)\n",
    "* **sommets.csv** : les lignes correspondent aux sommets du graphe.\n",
    "* **matrice_poids.csv**: matrice des distances, telle que définie dans le cours pour l'algorithme de Floyd-Warshall. Les lignes et les colonnes correspondent aux identifiants des sommets.\n",
    "* **matrice_adjacence.csv** : matrice d'adjacence. Les lignes et les colonnes correspondent aux identifiants des sommets.\n",
    "### Deux fichiers **json**, pour une importation directe dans des dictionnaires : \n",
    "* **dicsucc.json** : pour récupérer le dictionnaire des successeurs\n",
    "* **dicsuccdist.json** : pour récupérer les successeurs et les distances"
   ]
  },
  {
   "cell_type": "markdown",
   "id": "9a05030e-2f13-43e9-b63e-2606d0166986",
   "metadata": {},
   "source": [
    "## Importation des bibliothèques et répertoire par défaut\n"
   ]
  },
  {
   "cell_type": "code",
   "execution_count": 20,
   "id": "f56c8e94-1bbe-4c49-9470-06d4651eda2f",
   "metadata": {},
   "outputs": [],
   "source": [
    "import pandas as pd\n",
    "import numpy as np\n",
    "import json\n",
    "import os\n",
    "# Répertoire par défaut à modifier : \n",
    "os.chdir(r'C:\\INFO\\S2.02 chemins bayonne')"
   ]
  },
  {
   "cell_type": "markdown",
   "id": "2bb92439-f247-44cb-a2b3-c85e659c7d79",
   "metadata": {},
   "source": [
    "## Importation des **json**\n",
    "Par défaut les clés sont importées sous forme de chaînes de caractères, la création des dictionnaires se fait en deux temps.\n",
    "### Dictionnaire dicSucc"
   ]
  },
  {
   "cell_type": "code",
   "execution_count": 21,
   "id": "f27fb1c9-b1ef-4855-852d-2b1fd68e45f5",
   "metadata": {},
   "outputs": [
    {
     "data": {
      "text/html": [
       "<div>\n",
       "<style scoped>\n",
       "    .dataframe tbody tr th:only-of-type {\n",
       "        vertical-align: middle;\n",
       "    }\n",
       "\n",
       "    .dataframe tbody tr th {\n",
       "        vertical-align: top;\n",
       "    }\n",
       "\n",
       "    .dataframe thead th {\n",
       "        text-align: right;\n",
       "    }\n",
       "</style>\n",
       "<table border=\"1\" class=\"dataframe\">\n",
       "  <thead>\n",
       "    <tr style=\"text-align: right;\">\n",
       "      <th></th>\n",
       "      <th>sommet</th>\n",
       "      <th>liste de successeurs</th>\n",
       "    </tr>\n",
       "  </thead>\n",
       "  <tbody>\n",
       "    <tr>\n",
       "      <th>0</th>\n",
       "      <td>255402679</td>\n",
       "      <td>[388382241, 1828784578, 8074523115]</td>\n",
       "    </tr>\n",
       "    <tr>\n",
       "      <th>1</th>\n",
       "      <td>388382241</td>\n",
       "      <td>[255402679, 388189690, 8254499981]</td>\n",
       "    </tr>\n",
       "    <tr>\n",
       "      <th>2</th>\n",
       "      <td>388189690</td>\n",
       "      <td>[388382241, 7055043849, 388189757]</td>\n",
       "    </tr>\n",
       "    <tr>\n",
       "      <th>3</th>\n",
       "      <td>255402735</td>\n",
       "      <td>[1828784585, 388382280, 8074523115, 388314411]</td>\n",
       "    </tr>\n",
       "    <tr>\n",
       "      <th>4</th>\n",
       "      <td>1828784585</td>\n",
       "      <td>[255402735, 1828784578, 269247892]</td>\n",
       "    </tr>\n",
       "  </tbody>\n",
       "</table>\n",
       "</div>"
      ],
      "text/plain": [
       "       sommet                            liste de successeurs\n",
       "0   255402679             [388382241, 1828784578, 8074523115]\n",
       "1   388382241              [255402679, 388189690, 8254499981]\n",
       "2   388189690              [388382241, 7055043849, 388189757]\n",
       "3   255402735  [1828784585, 388382280, 8074523115, 388314411]\n",
       "4  1828784585              [255402735, 1828784578, 269247892]"
      ]
     },
     "execution_count": 21,
     "metadata": {},
     "output_type": "execute_result"
    }
   ],
   "source": [
    "# Dictionnaire des successeurs : dicsucc\n",
    "# Le dictionnaire dicSuccCleStr contient des clés de type str.\n",
    "# Le dictionnaire dicsucc contient des clés de type int\n",
    "with open(\"dicsucc.json\", \"r\") as fichier:\n",
    "    dicSuccCleStr = json.load(fichier)\n",
    "dicSucc = {int(k): v for k, v in dicSuccCleStr.items()}\n",
    "del dicSuccCleStr\n",
    "\n",
    "# pour afficher un extrait du dictionnaire en passant par un dataframe\n",
    "pd.DataFrame(list(dicSucc.items()), columns=[\"sommet\", \"liste de successeurs\"]).head()\n"
   ]
  },
  {
   "cell_type": "code",
   "execution_count": 22,
   "id": "7a72f55f-d50e-47ff-a0a5-dac03657c335",
   "metadata": {},
   "outputs": [
    {
     "data": {
      "text/html": [
       "<div>\n",
       "<style scoped>\n",
       "    .dataframe tbody tr th:only-of-type {\n",
       "        vertical-align: middle;\n",
       "    }\n",
       "\n",
       "    .dataframe tbody tr th {\n",
       "        vertical-align: top;\n",
       "    }\n",
       "\n",
       "    .dataframe thead th {\n",
       "        text-align: right;\n",
       "    }\n",
       "</style>\n",
       "<table border=\"1\" class=\"dataframe\">\n",
       "  <thead>\n",
       "    <tr style=\"text-align: right;\">\n",
       "      <th></th>\n",
       "      <th>sommet</th>\n",
       "      <th>liste de successeurs avec distance</th>\n",
       "    </tr>\n",
       "  </thead>\n",
       "  <tbody>\n",
       "    <tr>\n",
       "      <th>0</th>\n",
       "      <td>255402679</td>\n",
       "      <td>[[388382241, 14.2], [1828784578, 29.6], [80745...</td>\n",
       "    </tr>\n",
       "    <tr>\n",
       "      <th>1</th>\n",
       "      <td>388382241</td>\n",
       "      <td>[[255402679, 14.2], [388189690, 53.4], [825449...</td>\n",
       "    </tr>\n",
       "    <tr>\n",
       "      <th>2</th>\n",
       "      <td>388189690</td>\n",
       "      <td>[[388382241, 53.4], [7055043849, 31.6], [38818...</td>\n",
       "    </tr>\n",
       "    <tr>\n",
       "      <th>3</th>\n",
       "      <td>255402735</td>\n",
       "      <td>[[1828784585, 20.5], [388382280, 36.7], [80745...</td>\n",
       "    </tr>\n",
       "    <tr>\n",
       "      <th>4</th>\n",
       "      <td>1828784585</td>\n",
       "      <td>[[255402735, 20.5], [1828784578, 60.3], [26924...</td>\n",
       "    </tr>\n",
       "  </tbody>\n",
       "</table>\n",
       "</div>"
      ],
      "text/plain": [
       "       sommet                 liste de successeurs avec distance\n",
       "0   255402679  [[388382241, 14.2], [1828784578, 29.6], [80745...\n",
       "1   388382241  [[255402679, 14.2], [388189690, 53.4], [825449...\n",
       "2   388189690  [[388382241, 53.4], [7055043849, 31.6], [38818...\n",
       "3   255402735  [[1828784585, 20.5], [388382280, 36.7], [80745...\n",
       "4  1828784585  [[255402735, 20.5], [1828784578, 60.3], [26924..."
      ]
     },
     "execution_count": 22,
     "metadata": {},
     "output_type": "execute_result"
    }
   ],
   "source": [
    "# Dictionnaire des successeurs avec distance : dicSuccDist\n",
    "# Le dictionnaire dicSuccDistCleStr contient des clés de type str.\n",
    "# Le dictionnaire dicSuccDist contient des clés de type int\n",
    "with open(\"dicsuccdist.json\", \"r\") as fichier:\n",
    "    dicSuccDistCleStr = json.load(fichier)\n",
    "dicSuccDist = {int(k): v for k, v in dicSuccDistCleStr.items()}\n",
    "del dicSuccDistCleStr\n",
    "\n",
    "# pour afficher un extrait du dictionnaire en passant par un dataframe\n",
    "pd.DataFrame(list(dicSuccDist.items()), columns=[\"sommet\", \"liste de successeurs avec distance\"]).head()"
   ]
  },
  {
   "cell_type": "markdown",
   "id": "6ab7d07b-16f9-423a-b445-688e0af263fc",
   "metadata": {},
   "source": [
    "## Importation des **csv**\n",
    "Import de aretes.csv, sommets.csv, matrice_poids.csv, matrice_adjacence.csv (--> dataframe)"
   ]
  },
  {
   "cell_type": "code",
   "execution_count": 23,
   "id": "2ab0f1cc-f65c-48ed-89b9-b197cfecb338",
   "metadata": {},
   "outputs": [
    {
     "data": {
      "text/html": [
       "<div>\n",
       "<style scoped>\n",
       "    .dataframe tbody tr th:only-of-type {\n",
       "        vertical-align: middle;\n",
       "    }\n",
       "\n",
       "    .dataframe tbody tr th {\n",
       "        vertical-align: top;\n",
       "    }\n",
       "\n",
       "    .dataframe thead th {\n",
       "        text-align: right;\n",
       "    }\n",
       "</style>\n",
       "<table border=\"1\" class=\"dataframe\">\n",
       "  <thead>\n",
       "    <tr style=\"text-align: right;\">\n",
       "      <th></th>\n",
       "      <th>parent</th>\n",
       "      <th>lstpoints</th>\n",
       "      <th>highway</th>\n",
       "      <th>nom</th>\n",
       "      <th>surface</th>\n",
       "      <th>dist</th>\n",
       "      <th>deb</th>\n",
       "      <th>fin</th>\n",
       "    </tr>\n",
       "    <tr>\n",
       "      <th>id_arete</th>\n",
       "      <th></th>\n",
       "      <th></th>\n",
       "      <th></th>\n",
       "      <th></th>\n",
       "      <th></th>\n",
       "      <th></th>\n",
       "      <th></th>\n",
       "      <th></th>\n",
       "    </tr>\n",
       "  </thead>\n",
       "  <tbody>\n",
       "    <tr>\n",
       "      <th>23585325</th>\n",
       "      <td>23585325</td>\n",
       "      <td>[255402679, 388382241]</td>\n",
       "      <td>living_street</td>\n",
       "      <td>Rue Adolphe Thiers</td>\n",
       "      <td>concrete:plates</td>\n",
       "      <td>14.2</td>\n",
       "      <td>255402679</td>\n",
       "      <td>388382241</td>\n",
       "    </tr>\n",
       "    <tr>\n",
       "      <th>23585340</th>\n",
       "      <td>23585340</td>\n",
       "      <td>[388382241, 6256038960, 8254499980, 388189690]</td>\n",
       "      <td>pedestrian</td>\n",
       "      <td>Place Jacques Portes</td>\n",
       "      <td>concrete:plates</td>\n",
       "      <td>53.4</td>\n",
       "      <td>388382241</td>\n",
       "      <td>388189690</td>\n",
       "    </tr>\n",
       "    <tr>\n",
       "      <th>24778994</th>\n",
       "      <td>24778994</td>\n",
       "      <td>[255402735, 1828784585]</td>\n",
       "      <td>pedestrian</td>\n",
       "      <td>Rue de la Monnaie</td>\n",
       "      <td>sett</td>\n",
       "      <td>20.5</td>\n",
       "      <td>255402735</td>\n",
       "      <td>1828784585</td>\n",
       "    </tr>\n",
       "    <tr>\n",
       "      <th>32392579</th>\n",
       "      <td>32392579</td>\n",
       "      <td>[364416834, 7284645447, 5940751186]</td>\n",
       "      <td>primary</td>\n",
       "      <td>Avenue Henri Grenet</td>\n",
       "      <td>asphalt</td>\n",
       "      <td>22.2</td>\n",
       "      <td>364416834</td>\n",
       "      <td>5940751186</td>\n",
       "    </tr>\n",
       "    <tr>\n",
       "      <th>33881143</th>\n",
       "      <td>33881143</td>\n",
       "      <td>[388189690, 7055043849]</td>\n",
       "      <td>pedestrian</td>\n",
       "      <td>Rue Albert 1er</td>\n",
       "      <td>asphalt</td>\n",
       "      <td>31.6</td>\n",
       "      <td>388189690</td>\n",
       "      <td>7055043849</td>\n",
       "    </tr>\n",
       "  </tbody>\n",
       "</table>\n",
       "</div>"
      ],
      "text/plain": [
       "            parent                                       lstpoints  \\\n",
       "id_arete                                                             \n",
       "23585325  23585325                          [255402679, 388382241]   \n",
       "23585340  23585340  [388382241, 6256038960, 8254499980, 388189690]   \n",
       "24778994  24778994                         [255402735, 1828784585]   \n",
       "32392579  32392579             [364416834, 7284645447, 5940751186]   \n",
       "33881143  33881143                         [388189690, 7055043849]   \n",
       "\n",
       "                highway                   nom          surface  dist  \\\n",
       "id_arete                                                               \n",
       "23585325  living_street    Rue Adolphe Thiers  concrete:plates  14.2   \n",
       "23585340     pedestrian  Place Jacques Portes  concrete:plates  53.4   \n",
       "24778994     pedestrian     Rue de la Monnaie             sett  20.5   \n",
       "32392579        primary   Avenue Henri Grenet          asphalt  22.2   \n",
       "33881143     pedestrian        Rue Albert 1er          asphalt  31.6   \n",
       "\n",
       "                deb         fin  \n",
       "id_arete                         \n",
       "23585325  255402679   388382241  \n",
       "23585340  388382241   388189690  \n",
       "24778994  255402735  1828784585  \n",
       "32392579  364416834  5940751186  \n",
       "33881143  388189690  7055043849  "
      ]
     },
     "execution_count": 23,
     "metadata": {},
     "output_type": "execute_result"
    }
   ],
   "source": [
    "dfAretes = pd.read_table('aretes.csv', sep  =';', index_col= 0)\n",
    "dfAretes.head()"
   ]
  },
  {
   "cell_type": "code",
   "execution_count": 24,
   "id": "2409b0f7-53e7-4473-9c78-45040272242e",
   "metadata": {},
   "outputs": [
    {
     "data": {
      "text/html": [
       "<div>\n",
       "<style scoped>\n",
       "    .dataframe tbody tr th:only-of-type {\n",
       "        vertical-align: middle;\n",
       "    }\n",
       "\n",
       "    .dataframe tbody tr th {\n",
       "        vertical-align: top;\n",
       "    }\n",
       "\n",
       "    .dataframe thead th {\n",
       "        text-align: right;\n",
       "    }\n",
       "</style>\n",
       "<table border=\"1\" class=\"dataframe\">\n",
       "  <thead>\n",
       "    <tr style=\"text-align: right;\">\n",
       "      <th></th>\n",
       "      <th>lat</th>\n",
       "      <th>lon</th>\n",
       "      <th>nom</th>\n",
       "      <th>equipement</th>\n",
       "      <th>bus</th>\n",
       "      <th>rue</th>\n",
       "      <th>numrue</th>\n",
       "      <th>tourism</th>\n",
       "      <th>artiste</th>\n",
       "      <th>type_art</th>\n",
       "      <th>date_debut</th>\n",
       "      <th>panoramax</th>\n",
       "      <th>tourisme</th>\n",
       "      <th>nom_artiste</th>\n",
       "    </tr>\n",
       "    <tr>\n",
       "      <th>id_som</th>\n",
       "      <th></th>\n",
       "      <th></th>\n",
       "      <th></th>\n",
       "      <th></th>\n",
       "      <th></th>\n",
       "      <th></th>\n",
       "      <th></th>\n",
       "      <th></th>\n",
       "      <th></th>\n",
       "      <th></th>\n",
       "      <th></th>\n",
       "      <th></th>\n",
       "      <th></th>\n",
       "      <th></th>\n",
       "    </tr>\n",
       "  </thead>\n",
       "  <tbody>\n",
       "    <tr>\n",
       "      <th>255402679</th>\n",
       "      <td>43.491879</td>\n",
       "      <td>-1.477186</td>\n",
       "      <td>NaN</td>\n",
       "      <td>NaN</td>\n",
       "      <td>NaN</td>\n",
       "      <td>NaN</td>\n",
       "      <td>NaN</td>\n",
       "      <td>NaN</td>\n",
       "      <td>NaN</td>\n",
       "      <td>NaN</td>\n",
       "      <td>NaN</td>\n",
       "      <td>NaN</td>\n",
       "      <td>NaN</td>\n",
       "      <td>NaN</td>\n",
       "    </tr>\n",
       "    <tr>\n",
       "      <th>388382241</th>\n",
       "      <td>43.491996</td>\n",
       "      <td>-1.477115</td>\n",
       "      <td>NaN</td>\n",
       "      <td>NaN</td>\n",
       "      <td>NaN</td>\n",
       "      <td>NaN</td>\n",
       "      <td>NaN</td>\n",
       "      <td>NaN</td>\n",
       "      <td>NaN</td>\n",
       "      <td>NaN</td>\n",
       "      <td>NaN</td>\n",
       "      <td>NaN</td>\n",
       "      <td>NaN</td>\n",
       "      <td>NaN</td>\n",
       "    </tr>\n",
       "    <tr>\n",
       "      <th>388189690</th>\n",
       "      <td>43.492253</td>\n",
       "      <td>-1.477673</td>\n",
       "      <td>NaN</td>\n",
       "      <td>NaN</td>\n",
       "      <td>NaN</td>\n",
       "      <td>NaN</td>\n",
       "      <td>NaN</td>\n",
       "      <td>NaN</td>\n",
       "      <td>NaN</td>\n",
       "      <td>NaN</td>\n",
       "      <td>NaN</td>\n",
       "      <td>NaN</td>\n",
       "      <td>NaN</td>\n",
       "      <td>NaN</td>\n",
       "    </tr>\n",
       "    <tr>\n",
       "      <th>255402735</th>\n",
       "      <td>43.491560</td>\n",
       "      <td>-1.476544</td>\n",
       "      <td>NaN</td>\n",
       "      <td>NaN</td>\n",
       "      <td>NaN</td>\n",
       "      <td>NaN</td>\n",
       "      <td>NaN</td>\n",
       "      <td>NaN</td>\n",
       "      <td>NaN</td>\n",
       "      <td>NaN</td>\n",
       "      <td>NaN</td>\n",
       "      <td>NaN</td>\n",
       "      <td>NaN</td>\n",
       "      <td>NaN</td>\n",
       "    </tr>\n",
       "    <tr>\n",
       "      <th>1828784585</th>\n",
       "      <td>43.491397</td>\n",
       "      <td>-1.476664</td>\n",
       "      <td>NaN</td>\n",
       "      <td>NaN</td>\n",
       "      <td>NaN</td>\n",
       "      <td>NaN</td>\n",
       "      <td>NaN</td>\n",
       "      <td>NaN</td>\n",
       "      <td>NaN</td>\n",
       "      <td>NaN</td>\n",
       "      <td>NaN</td>\n",
       "      <td>NaN</td>\n",
       "      <td>NaN</td>\n",
       "      <td>NaN</td>\n",
       "    </tr>\n",
       "  </tbody>\n",
       "</table>\n",
       "</div>"
      ],
      "text/plain": [
       "                  lat       lon  nom equipement  bus  rue  numrue  tourism  \\\n",
       "id_som                                                                       \n",
       "255402679   43.491879 -1.477186  NaN        NaN  NaN  NaN     NaN      NaN   \n",
       "388382241   43.491996 -1.477115  NaN        NaN  NaN  NaN     NaN      NaN   \n",
       "388189690   43.492253 -1.477673  NaN        NaN  NaN  NaN     NaN      NaN   \n",
       "255402735   43.491560 -1.476544  NaN        NaN  NaN  NaN     NaN      NaN   \n",
       "1828784585  43.491397 -1.476664  NaN        NaN  NaN  NaN     NaN      NaN   \n",
       "\n",
       "            artiste  type_art  date_debut  panoramax  tourisme  nom_artiste  \n",
       "id_som                                                                       \n",
       "255402679       NaN       NaN         NaN        NaN       NaN          NaN  \n",
       "388382241       NaN       NaN         NaN        NaN       NaN          NaN  \n",
       "388189690       NaN       NaN         NaN        NaN       NaN          NaN  \n",
       "255402735       NaN       NaN         NaN        NaN       NaN          NaN  \n",
       "1828784585      NaN       NaN         NaN        NaN       NaN          NaN  "
      ]
     },
     "execution_count": 24,
     "metadata": {},
     "output_type": "execute_result"
    }
   ],
   "source": [
    "dfSommets = pd.read_table('sommets.csv', sep  =';', index_col= 0)\n",
    "dfSommets.head()"
   ]
  },
  {
   "cell_type": "code",
   "execution_count": 25,
   "id": "114606ca-d791-40fd-9f15-97df0e826d17",
   "metadata": {},
   "outputs": [
    {
     "ename": "MemoryError",
     "evalue": "Unable to allocate 77.6 MiB for an array with shape (3189, 3189) and data type float64",
     "output_type": "error",
     "traceback": [
      "\u001b[1;31m---------------------------------------------------------------------------\u001b[0m",
      "\u001b[1;31mMemoryError\u001b[0m                               Traceback (most recent call last)",
      "Cell \u001b[1;32mIn[25], line 1\u001b[0m\n\u001b[1;32m----> 1\u001b[0m dfMatricePoids \u001b[38;5;241m=\u001b[39m pd\u001b[38;5;241m.\u001b[39mread_csv(\u001b[38;5;124m'\u001b[39m\u001b[38;5;124mmatrice_poids.csv\u001b[39m\u001b[38;5;124m'\u001b[39m, sep \u001b[38;5;241m=\u001b[39m \u001b[38;5;124m'\u001b[39m\u001b[38;5;124m;\u001b[39m\u001b[38;5;124m'\u001b[39m, index_col \u001b[38;5;241m=\u001b[39m \u001b[38;5;241m0\u001b[39m)\n\u001b[0;32m      2\u001b[0m dfMatricePoids\u001b[38;5;241m.\u001b[39mhead()\n",
      "File \u001b[1;32m~\\AppData\\Local\\anaconda33\\Lib\\site-packages\\pandas\\io\\parsers\\readers.py:1026\u001b[0m, in \u001b[0;36mread_csv\u001b[1;34m(filepath_or_buffer, sep, delimiter, header, names, index_col, usecols, dtype, engine, converters, true_values, false_values, skipinitialspace, skiprows, skipfooter, nrows, na_values, keep_default_na, na_filter, verbose, skip_blank_lines, parse_dates, infer_datetime_format, keep_date_col, date_parser, date_format, dayfirst, cache_dates, iterator, chunksize, compression, thousands, decimal, lineterminator, quotechar, quoting, doublequote, escapechar, comment, encoding, encoding_errors, dialect, on_bad_lines, delim_whitespace, low_memory, memory_map, float_precision, storage_options, dtype_backend)\u001b[0m\n\u001b[0;32m   1013\u001b[0m kwds_defaults \u001b[38;5;241m=\u001b[39m _refine_defaults_read(\n\u001b[0;32m   1014\u001b[0m     dialect,\n\u001b[0;32m   1015\u001b[0m     delimiter,\n\u001b[1;32m   (...)\u001b[0m\n\u001b[0;32m   1022\u001b[0m     dtype_backend\u001b[38;5;241m=\u001b[39mdtype_backend,\n\u001b[0;32m   1023\u001b[0m )\n\u001b[0;32m   1024\u001b[0m kwds\u001b[38;5;241m.\u001b[39mupdate(kwds_defaults)\n\u001b[1;32m-> 1026\u001b[0m \u001b[38;5;28;01mreturn\u001b[39;00m _read(filepath_or_buffer, kwds)\n",
      "File \u001b[1;32m~\\AppData\\Local\\anaconda33\\Lib\\site-packages\\pandas\\io\\parsers\\readers.py:626\u001b[0m, in \u001b[0;36m_read\u001b[1;34m(filepath_or_buffer, kwds)\u001b[0m\n\u001b[0;32m    623\u001b[0m     \u001b[38;5;28;01mreturn\u001b[39;00m parser\n\u001b[0;32m    625\u001b[0m \u001b[38;5;28;01mwith\u001b[39;00m parser:\n\u001b[1;32m--> 626\u001b[0m     \u001b[38;5;28;01mreturn\u001b[39;00m parser\u001b[38;5;241m.\u001b[39mread(nrows)\n",
      "File \u001b[1;32m~\\AppData\\Local\\anaconda33\\Lib\\site-packages\\pandas\\io\\parsers\\readers.py:1968\u001b[0m, in \u001b[0;36mTextFileReader.read\u001b[1;34m(self, nrows)\u001b[0m\n\u001b[0;32m   1965\u001b[0m     \u001b[38;5;28;01melse\u001b[39;00m:\n\u001b[0;32m   1966\u001b[0m         new_col_dict \u001b[38;5;241m=\u001b[39m col_dict\n\u001b[1;32m-> 1968\u001b[0m     df \u001b[38;5;241m=\u001b[39m DataFrame(\n\u001b[0;32m   1969\u001b[0m         new_col_dict,\n\u001b[0;32m   1970\u001b[0m         columns\u001b[38;5;241m=\u001b[39mcolumns,\n\u001b[0;32m   1971\u001b[0m         index\u001b[38;5;241m=\u001b[39mindex,\n\u001b[0;32m   1972\u001b[0m         copy\u001b[38;5;241m=\u001b[39m\u001b[38;5;129;01mnot\u001b[39;00m using_copy_on_write(),\n\u001b[0;32m   1973\u001b[0m     )\n\u001b[0;32m   1975\u001b[0m     \u001b[38;5;28mself\u001b[39m\u001b[38;5;241m.\u001b[39m_currow \u001b[38;5;241m+\u001b[39m\u001b[38;5;241m=\u001b[39m new_rows\n\u001b[0;32m   1976\u001b[0m \u001b[38;5;28;01mreturn\u001b[39;00m df\n",
      "File \u001b[1;32m~\\AppData\\Local\\anaconda33\\Lib\\site-packages\\pandas\\core\\frame.py:778\u001b[0m, in \u001b[0;36mDataFrame.__init__\u001b[1;34m(self, data, index, columns, dtype, copy)\u001b[0m\n\u001b[0;32m    772\u001b[0m     mgr \u001b[38;5;241m=\u001b[39m \u001b[38;5;28mself\u001b[39m\u001b[38;5;241m.\u001b[39m_init_mgr(\n\u001b[0;32m    773\u001b[0m         data, axes\u001b[38;5;241m=\u001b[39m{\u001b[38;5;124m\"\u001b[39m\u001b[38;5;124mindex\u001b[39m\u001b[38;5;124m\"\u001b[39m: index, \u001b[38;5;124m\"\u001b[39m\u001b[38;5;124mcolumns\u001b[39m\u001b[38;5;124m\"\u001b[39m: columns}, dtype\u001b[38;5;241m=\u001b[39mdtype, copy\u001b[38;5;241m=\u001b[39mcopy\n\u001b[0;32m    774\u001b[0m     )\n\u001b[0;32m    776\u001b[0m \u001b[38;5;28;01melif\u001b[39;00m \u001b[38;5;28misinstance\u001b[39m(data, \u001b[38;5;28mdict\u001b[39m):\n\u001b[0;32m    777\u001b[0m     \u001b[38;5;66;03m# GH#38939 de facto copy defaults to False only in non-dict cases\u001b[39;00m\n\u001b[1;32m--> 778\u001b[0m     mgr \u001b[38;5;241m=\u001b[39m dict_to_mgr(data, index, columns, dtype\u001b[38;5;241m=\u001b[39mdtype, copy\u001b[38;5;241m=\u001b[39mcopy, typ\u001b[38;5;241m=\u001b[39mmanager)\n\u001b[0;32m    779\u001b[0m \u001b[38;5;28;01melif\u001b[39;00m \u001b[38;5;28misinstance\u001b[39m(data, ma\u001b[38;5;241m.\u001b[39mMaskedArray):\n\u001b[0;32m    780\u001b[0m     \u001b[38;5;28;01mfrom\u001b[39;00m \u001b[38;5;21;01mnumpy\u001b[39;00m\u001b[38;5;21;01m.\u001b[39;00m\u001b[38;5;21;01mma\u001b[39;00m \u001b[38;5;28;01mimport\u001b[39;00m mrecords\n",
      "File \u001b[1;32m~\\AppData\\Local\\anaconda33\\Lib\\site-packages\\pandas\\core\\internals\\construction.py:503\u001b[0m, in \u001b[0;36mdict_to_mgr\u001b[1;34m(data, index, columns, dtype, typ, copy)\u001b[0m\n\u001b[0;32m    499\u001b[0m     \u001b[38;5;28;01melse\u001b[39;00m:\n\u001b[0;32m    500\u001b[0m         \u001b[38;5;66;03m# dtype check to exclude e.g. range objects, scalars\u001b[39;00m\n\u001b[0;32m    501\u001b[0m         arrays \u001b[38;5;241m=\u001b[39m [x\u001b[38;5;241m.\u001b[39mcopy() \u001b[38;5;28;01mif\u001b[39;00m \u001b[38;5;28mhasattr\u001b[39m(x, \u001b[38;5;124m\"\u001b[39m\u001b[38;5;124mdtype\u001b[39m\u001b[38;5;124m\"\u001b[39m) \u001b[38;5;28;01melse\u001b[39;00m x \u001b[38;5;28;01mfor\u001b[39;00m x \u001b[38;5;129;01min\u001b[39;00m arrays]\n\u001b[1;32m--> 503\u001b[0m \u001b[38;5;28;01mreturn\u001b[39;00m arrays_to_mgr(arrays, columns, index, dtype\u001b[38;5;241m=\u001b[39mdtype, typ\u001b[38;5;241m=\u001b[39mtyp, consolidate\u001b[38;5;241m=\u001b[39mcopy)\n",
      "File \u001b[1;32m~\\AppData\\Local\\anaconda33\\Lib\\site-packages\\pandas\\core\\internals\\construction.py:152\u001b[0m, in \u001b[0;36marrays_to_mgr\u001b[1;34m(arrays, columns, index, dtype, verify_integrity, typ, consolidate)\u001b[0m\n\u001b[0;32m    149\u001b[0m axes \u001b[38;5;241m=\u001b[39m [columns, index]\n\u001b[0;32m    151\u001b[0m \u001b[38;5;28;01mif\u001b[39;00m typ \u001b[38;5;241m==\u001b[39m \u001b[38;5;124m\"\u001b[39m\u001b[38;5;124mblock\u001b[39m\u001b[38;5;124m\"\u001b[39m:\n\u001b[1;32m--> 152\u001b[0m     \u001b[38;5;28;01mreturn\u001b[39;00m create_block_manager_from_column_arrays(\n\u001b[0;32m    153\u001b[0m         arrays, axes, consolidate\u001b[38;5;241m=\u001b[39mconsolidate, refs\u001b[38;5;241m=\u001b[39mrefs\n\u001b[0;32m    154\u001b[0m     )\n\u001b[0;32m    155\u001b[0m \u001b[38;5;28;01melif\u001b[39;00m typ \u001b[38;5;241m==\u001b[39m \u001b[38;5;124m\"\u001b[39m\u001b[38;5;124marray\u001b[39m\u001b[38;5;124m\"\u001b[39m:\n\u001b[0;32m    156\u001b[0m     \u001b[38;5;28;01mreturn\u001b[39;00m ArrayManager(arrays, [index, columns])\n",
      "File \u001b[1;32m~\\AppData\\Local\\anaconda33\\Lib\\site-packages\\pandas\\core\\internals\\managers.py:2139\u001b[0m, in \u001b[0;36mcreate_block_manager_from_column_arrays\u001b[1;34m(arrays, axes, consolidate, refs)\u001b[0m\n\u001b[0;32m   2121\u001b[0m \u001b[38;5;28;01mdef\u001b[39;00m \u001b[38;5;21mcreate_block_manager_from_column_arrays\u001b[39m(\n\u001b[0;32m   2122\u001b[0m     arrays: \u001b[38;5;28mlist\u001b[39m[ArrayLike],\n\u001b[0;32m   2123\u001b[0m     axes: \u001b[38;5;28mlist\u001b[39m[Index],\n\u001b[1;32m   (...)\u001b[0m\n\u001b[0;32m   2135\u001b[0m     \u001b[38;5;66;03m# These last three are sufficient to allow us to safely pass\u001b[39;00m\n\u001b[0;32m   2136\u001b[0m     \u001b[38;5;66;03m#  verify_integrity=False below.\u001b[39;00m\n\u001b[0;32m   2138\u001b[0m     \u001b[38;5;28;01mtry\u001b[39;00m:\n\u001b[1;32m-> 2139\u001b[0m         blocks \u001b[38;5;241m=\u001b[39m _form_blocks(arrays, consolidate, refs)\n\u001b[0;32m   2140\u001b[0m         mgr \u001b[38;5;241m=\u001b[39m BlockManager(blocks, axes, verify_integrity\u001b[38;5;241m=\u001b[39m\u001b[38;5;28;01mFalse\u001b[39;00m)\n\u001b[0;32m   2141\u001b[0m     \u001b[38;5;28;01mexcept\u001b[39;00m \u001b[38;5;167;01mValueError\u001b[39;00m \u001b[38;5;28;01mas\u001b[39;00m e:\n",
      "File \u001b[1;32m~\\AppData\\Local\\anaconda33\\Lib\\site-packages\\pandas\\core\\internals\\managers.py:2212\u001b[0m, in \u001b[0;36m_form_blocks\u001b[1;34m(arrays, consolidate, refs)\u001b[0m\n\u001b[0;32m   2209\u001b[0m \u001b[38;5;28;01mif\u001b[39;00m \u001b[38;5;28missubclass\u001b[39m(dtype\u001b[38;5;241m.\u001b[39mtype, (\u001b[38;5;28mstr\u001b[39m, \u001b[38;5;28mbytes\u001b[39m)):\n\u001b[0;32m   2210\u001b[0m     dtype \u001b[38;5;241m=\u001b[39m np\u001b[38;5;241m.\u001b[39mdtype(\u001b[38;5;28mobject\u001b[39m)\n\u001b[1;32m-> 2212\u001b[0m values, placement \u001b[38;5;241m=\u001b[39m _stack_arrays(\u001b[38;5;28mlist\u001b[39m(tup_block), dtype)\n\u001b[0;32m   2213\u001b[0m \u001b[38;5;28;01mif\u001b[39;00m is_dtlike:\n\u001b[0;32m   2214\u001b[0m     values \u001b[38;5;241m=\u001b[39m ensure_wrapped_if_datetimelike(values)\n",
      "File \u001b[1;32m~\\AppData\\Local\\anaconda33\\Lib\\site-packages\\pandas\\core\\internals\\managers.py:2252\u001b[0m, in \u001b[0;36m_stack_arrays\u001b[1;34m(tuples, dtype)\u001b[0m\n\u001b[0;32m   2249\u001b[0m first \u001b[38;5;241m=\u001b[39m arrays[\u001b[38;5;241m0\u001b[39m]\n\u001b[0;32m   2250\u001b[0m shape \u001b[38;5;241m=\u001b[39m (\u001b[38;5;28mlen\u001b[39m(arrays),) \u001b[38;5;241m+\u001b[39m first\u001b[38;5;241m.\u001b[39mshape\n\u001b[1;32m-> 2252\u001b[0m stacked \u001b[38;5;241m=\u001b[39m np\u001b[38;5;241m.\u001b[39mempty(shape, dtype\u001b[38;5;241m=\u001b[39mdtype)\n\u001b[0;32m   2253\u001b[0m \u001b[38;5;28;01mfor\u001b[39;00m i, arr \u001b[38;5;129;01min\u001b[39;00m \u001b[38;5;28menumerate\u001b[39m(arrays):\n\u001b[0;32m   2254\u001b[0m     stacked[i] \u001b[38;5;241m=\u001b[39m arr\n",
      "\u001b[1;31mMemoryError\u001b[0m: Unable to allocate 77.6 MiB for an array with shape (3189, 3189) and data type float64"
     ]
    }
   ],
   "source": [
    "dfMatricePoids = pd.read_csv('matrice_poids.csv', sep = ';', index_col = 0)\n",
    "dfMatricePoids.head()"
   ]
  },
  {
   "cell_type": "code",
   "execution_count": null,
   "id": "408f03bd-6a50-4389-b589-af3dd18869da",
   "metadata": {},
   "outputs": [],
   "source": [
    "dfMatriceAdj = pd.read_csv('matrice_adjacence.csv', sep = ';', index_col = 0)\n",
    "dfMatriceAdj.head()"
   ]
  },
  {
   "cell_type": "markdown",
   "id": "e212b80a-720f-4f5c-95a5-3fff191a3f2b",
   "metadata": {},
   "source": [
    "## Dictionnaires de correspondance indice <--> nom de sommet\n",
    "#### **correspIndSom** : pour avoir le nom du sommet à partir de l'indice"
   ]
  },
  {
   "cell_type": "code",
   "execution_count": null,
   "id": "73bf58c7-f911-4893-b037-929c20ad87cb",
   "metadata": {},
   "outputs": [],
   "source": [
    "correspIndSom = {}\n",
    "for i in range(len(dfMatriceAdj)) :\n",
    "    correspIndSom[i] = dfMatriceAdj.index[i]"
   ]
  },
  {
   "cell_type": "markdown",
   "id": "e9c768d3-8a3d-42ef-b174-32582de54bf1",
   "metadata": {},
   "source": [
    "#### **correspSomInd** : pour avoir l'indice à partir du nom du sommet"
   ]
  },
  {
   "cell_type": "code",
   "execution_count": null,
   "id": "e4953738-d4c8-46f3-b32d-75873e4b02f7",
   "metadata": {},
   "outputs": [],
   "source": [
    "correspSomInd = {}\n",
    "for ind in dfMatriceAdj.index : \n",
    "    correspSomInd[ind] = dfMatriceAdj.index.get_loc(ind)"
   ]
  },
  {
   "cell_type": "markdown",
   "id": "f0d2e5f9-7352-4110-9068-bfd1b9134613",
   "metadata": {},
   "source": [
    "## Transformation des matrices en tableaux numpy ou en listes de listes\n",
    "### **Matrice d'adjacence**\n",
    "* **tableau Numpy (np.array)**"
   ]
  },
  {
   "cell_type": "code",
   "execution_count": null,
   "id": "98a7b633-ccd5-4692-8030-f6803645a782",
   "metadata": {},
   "outputs": [],
   "source": [
    "tabMatAdj = np.array(dfMatriceAdj)\n",
    "display(tabMatAdj[0:5])"
   ]
  },
  {
   "cell_type": "markdown",
   "id": "917e5a03-355e-4ad6-885a-0617a750a4f4",
   "metadata": {},
   "source": [
    "* **Liste de listes**"
   ]
  },
  {
   "cell_type": "code",
   "execution_count": null,
   "id": "27d31e14-8c26-474e-b6b6-e56c5a07697b",
   "metadata": {},
   "outputs": [],
   "source": [
    "n = len(dfMatriceAdj)\n",
    "lstMatAdj = [[tabMatAdj[i,j] for j in range(n)] for i in range(n)]"
   ]
  },
  {
   "cell_type": "markdown",
   "id": "2ad4e6ae-370c-4ec3-ab30-25fa54bc00bc",
   "metadata": {},
   "source": [
    "### **Matrice des poids**\n",
    "* **tableau Numpy (np.array)**"
   ]
  },
  {
   "cell_type": "code",
   "execution_count": null,
   "id": "cd0613c3-a91c-47a6-b5dd-0b1ac693e44a",
   "metadata": {},
   "outputs": [],
   "source": [
    "tabMatPoids = np.array(dfMatricePoids)\n",
    "display(tabMatPoids[0:5])"
   ]
  },
  {
   "cell_type": "markdown",
   "id": "741f28ed-7dbd-4fd1-8bea-7339f2bb567f",
   "metadata": {},
   "source": [
    "* **Liste de listes**"
   ]
  },
  {
   "cell_type": "code",
   "execution_count": null,
   "id": "adc4b043-4743-44ce-aa3d-fdd75da02b3c",
   "metadata": {},
   "outputs": [],
   "source": [
    "n = len(tabMatPoids)\n",
    "lstMatPoids = [[tabMatPoids[i,j] for j in range(n)] for i in range(n)]"
   ]
  },
  {
   "cell_type": "code",
   "execution_count": null,
   "id": "592eae84-3537-47ad-99d5-631fe90ba77d",
   "metadata": {},
   "outputs": [],
   "source": []
  }
 ],
 "metadata": {
  "kernelspec": {
   "display_name": "Python 3 (ipykernel)",
   "language": "python",
   "name": "python3"
  },
  "language_info": {
   "codemirror_mode": {
    "name": "ipython",
    "version": 3
   },
   "file_extension": ".py",
   "mimetype": "text/x-python",
   "name": "python",
   "nbconvert_exporter": "python",
   "pygments_lexer": "ipython3",
   "version": "3.12.7"
  }
 },
 "nbformat": 4,
 "nbformat_minor": 5
}
