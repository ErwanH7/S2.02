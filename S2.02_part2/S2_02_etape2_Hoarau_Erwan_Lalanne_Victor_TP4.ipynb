{
 "cells": [
  {
   "cell_type": "markdown",
   "id": "af4b6ec3",
   "metadata": {},
   "source": [
    "# SAE S2.02 : Exploration algorithmique d'un problème - Étape 2 : exploration algorithmique d'un problème\n",
    "## Hoarau Erwan, Lalanne Victor TD2, TP4\n",
    "### Cette version utilise le code donné par la professur pour un bon commencement\n",
    "### Importation des bibliothèques et des fichers que nous allons utiliser"
   ]
  },
  {
   "cell_type": "code",
   "execution_count": null,
   "id": "dacf7466",
   "metadata": {},
   "outputs": [],
   "source": [
    "import pandas as pd\n",
    "import numpy as np\n",
    "import json\n",
    "import os\n",
    "import timeit\n",
    "import heapq\n",
    "\n",
    "# Répertoire par défaut à modifier :\n",
    "os.chdir('x\\x\\x') # Remplacer 'x\\x\\x' par le chemin vers le répertoire contenant les fichiers de données.\n",
    "\n",
    "# Dictionnaire des successeurs\n",
    "with open(\"dicsucc.json\", \"r\") as fichier:\n",
    "    dicSuccCleStr = json.load(fichier)\n",
    "dicSucc = {int(k): v for k, v in dicSuccCleStr.items()}\n",
    "del dicSuccCleStr\n",
    "\n",
    "# Dictionnaire des successeurs avec distance\n",
    "with open(\"dicsuccdist.json\", \"r\") as fichier:\n",
    "    dicSuccDistCleStr = json.load(fichier)\n",
    "dicSuccDist = {int(k): v for k, v in dicSuccDistCleStr.items()}\n",
    "del dicSuccDistCleStr\n",
    "\n",
    "# Chargement des fichiers CSV\n",
    "dfAretes = pd.read_table('aretes.csv', sep=';', index_col=0)\n",
    "dfSommets = pd.read_table('sommets.csv', sep=';', index_col=0)\n",
    "dfMatricePoids = pd.read_csv('matrice_poids.csv', sep=';', index_col=0)\n",
    "dfMatriceAdj = pd.read_csv('matrice_adjacence.csv', sep=';', index_col=0)\n",
    "\n",
    "# Correspondances index <-> sommet\n",
    "correspIndSom = {i: dfMatriceAdj.index[i] for i in range(len(dfMatriceAdj))}\n",
    "correspSomInd = {ind: dfMatriceAdj.index.get_loc(ind) for ind in dfMatriceAdj.index}\n",
    "\n",
    "# Conversion des matrices\n",
    "tabMatAdj = np.array(dfMatriceAdj)\n",
    "n = len(dfMatriceAdj)\n",
    "lstMatAdj = [[tabMatAdj[i, j] for j in range(n)] for i in range(n)]\n",
    "\n",
    "tabMatPoids = np.array(dfMatricePoids)\n",
    "n = len(tabMatPoids)\n",
    "lstMatPoids = [[tabMatPoids[i, j] for j in range(n)] for i in range(n)]"
   ]
  },
  {
   "cell_type": "markdown",
   "id": "ec57a90f",
   "metadata": {},
   "source": [
    "## Partie algortimique :\n",
    "### Algorithme de Dijkstra : "
   ]
  },
  {
   "cell_type": "code",
   "execution_count": null,
   "id": "2a22eb27",
   "metadata": {},
   "outputs": [],
   "source": [
    "def Dijkstra(id_dep, id_arriv):\n",
    "    # Vérification si les sommets sont valides\n",
    "    if id_dep not in dicSuccDist or id_arriv not in dicSuccDist:\n",
    "        raise ValueError(\"Sommet de départ ou d'arrivée invalide.\")\n",
    "    \n",
    "    # Initialisation des structures de données\n",
    "    distances = {s: float('inf') for s in dicSuccDist}\n",
    "    previous = {s: None for s in dicSuccDist}\n",
    "    distances[id_dep] = 0\n",
    "\n",
    "    # Liste de priorité pour l'algorithme (utilisation d'un tas binaire)\n",
    "    heap = [(0, id_dep)]\n",
    "\n",
    "    while heap:\n",
    "        # Extraire le sommet avec la plus petite distance\n",
    "        dist_u, u = heapq.heappop(heap)\n",
    "\n",
    "        # Si le sommet courant est celui d'arrivée, on peut arrêter l'algorithme\n",
    "        if u == id_arriv:\n",
    "            break\n",
    "\n",
    "        # Mise à jour des voisins du sommet courant\n",
    "        for v, weight in dicSuccDist.get(u, []):\n",
    "            alt = dist_u + weight  # Calcul de la distance alternative\n",
    "            if alt < distances.get(v, float('inf')):  # Si une meilleure distance est trouvée\n",
    "                distances[v] = alt\n",
    "                previous[v] = u\n",
    "                heapq.heappush(heap, (alt, v))  # Ajouter le sommet voisin à la pile\n",
    "\n",
    "    # Si la distance de l'arrivée est toujours infinie, il n'y a pas de chemin\n",
    "    if distances[id_arriv] == float('inf'):\n",
    "        return [], float('inf')\n",
    "\n",
    "    # Reconstruction du chemin à partir du dictionnaire 'previous'\n",
    "    chemin = []\n",
    "    current = id_arriv\n",
    "    while current is not None:\n",
    "        chemin.insert(0, current)\n",
    "        current = previous.get(current)\n",
    "\n",
    "    return chemin, distances[id_arriv]"
   ]
  },
  {
   "cell_type": "markdown",
   "id": "4bf93d1d",
   "metadata": {},
   "source": [
    "### Fonction de test pour Dijkstra : "
   ]
  },
  {
   "cell_type": "code",
   "execution_count": null,
   "id": "e34bceea",
   "metadata": {},
   "outputs": [],
   "source": [
    "# Fonction de test pour l'exécution de Dijkstra\n",
    "def test_dijkstra():\n",
    "    chemin, distance = Dijkstra(255402679, 388382241)\n",
    "    print(f\"Chemin trouvé (Dijkstra): {chemin}\")\n",
    "    print(f\"Distance totale (Dijkstra): {distance}\")\n",
    "\n",
    "# Mesurer le temps d'exécution de Dijkstra avec timeit\n",
    "temps_execution = timeit.timeit('test_dijkstra()', globals=globals(), number=1)\n",
    "\n",
    "# Affichage du temps d'exécution\n",
    "print(f\"Temps d'exécution de Dijkstra : {temps_execution:.6f} secondes\")"
   ]
  },
  {
   "cell_type": "markdown",
   "id": "5cb7f61b",
   "metadata": {},
   "source": [
    "### Algorithme de Bellman Ford Kalaba (BFK) :"
   ]
  },
  {
   "cell_type": "code",
   "execution_count": null,
   "id": "146e0dfe",
   "metadata": {},
   "outputs": [],
   "source": [
    "# Implémentation de Bellman Ford Kalaba (BFK)\n",
    "\n",
    "# Algorithme de Bellman-Ford-Kalaba\n",
    "def BFK(id_dep, id_arriv):\n",
    "    # Initialisation des sommets de départ et d'arrivée\n",
    "    dep = id_dep\n",
    "    arr = id_arriv\n",
    "\n",
    "    # Initialisation des distances à l'infini et des prédécesseurs à None\n",
    "    distances = {s: float('inf') for s in dicSuccDist}\n",
    "    previous = {s: None for s in dicSuccDist}\n",
    "    distances[dep] = 0  # La distance du sommet de départ est 0\n",
    "\n",
    "    # Relaxation des arêtes |V| - 1 fois (nombre de sommets - 1)\n",
    "    for _ in range(len(dicSuccDist) - 1):\n",
    "        for u in dicSuccDist:\n",
    "            for v, weight in dicSuccDist[u]:\n",
    "                # Si une distance plus courte est trouvée, on la met à jour\n",
    "                if distances[u] + weight < distances[v]:\n",
    "                    distances[v] = distances[u] + weight\n",
    "                    previous[v] = u\n",
    "\n",
    "    # Reconstruction du plus court chemin en remontant les prédécesseurs\n",
    "    chemin = []\n",
    "    current = arr\n",
    "    while current is not None:\n",
    "        chemin.insert(0, current)  # On insère chaque sommet au début pour obtenir l'ordre correct\n",
    "        current = previous[current]\n",
    "\n",
    "    # On retourne le chemin trouvé et la distance minimale\n",
    "    return chemin, distances[arr]"
   ]
  },
  {
   "cell_type": "markdown",
   "id": "e04ca852",
   "metadata": {},
   "source": [
    "### Fonction de test pour Bellman-Ford-Kalaba (BFK) : "
   ]
  },
  {
   "cell_type": "code",
   "execution_count": null,
   "id": "68f51a62",
   "metadata": {},
   "outputs": [],
   "source": [
    "# Fonction de test pour Bellman-Ford-Kalaba\n",
    "def test_bfk():\n",
    "    chemin, distance = BFK(255402679, 388382241)\n",
    "    print(f\"Chemin trouvé (BFK): {chemin}\")\n",
    "    print(f\"Distance totale (BFK): {distance}\")\n",
    "\n",
    "# Mesure du temps d'exécution de BFK avec timeit (une seule exécution)\n",
    "temps_bfk = timeit.timeit('test_bfk()', globals=globals(), number=1)\n",
    "\n",
    "# Affichage du temps d'exécution\n",
    "print(f\"Temps d'exécution de Bellman-Ford-Kalaba : {temps_bfk:.6f} secondes\")"
   ]
  },
  {
   "cell_type": "markdown",
   "id": "0ab275e1",
   "metadata": {},
   "source": [
    "### Comparaison des temps pour les 2 fonctions : "
   ]
  },
  {
   "cell_type": "code",
   "execution_count": null,
   "id": "a652c803",
   "metadata": {},
   "outputs": [],
   "source": [
    "# Affichage du temps d'exécution\n",
    "print(f\"Temps d'exécution de Bellman-Ford-Kalaba : {temps_bfk:.6f} secondes\")\n",
    "\n",
    "print(f\"Comparaison entre les 2 temps : {temps_bfk:.6f} secondes pour BFK et {temps_execution:.6f} secondes pour Dijkstra.\")\n",
    "\n",
    "if temps_bfk < temps_execution : \n",
    "    print (\"Le meilleur algorithme est Bellman Ford Kalaba\")\n",
    "else : \n",
    "    print (\"Le meilleur algorithme est Dijkstra\")"
   ]
  }
 ],
 "metadata": {
  "language_info": {
   "name": "python"
  }
 },
 "nbformat": 4,
 "nbformat_minor": 5
}
