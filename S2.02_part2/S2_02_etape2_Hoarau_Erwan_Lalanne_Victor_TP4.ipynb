{
 "cells": [
  {
   "cell_type": "markdown",
   "id": "af4b6ec3",
   "metadata": {},
   "source": [
    "# SAE S2.02 : Exploration algorithmique d'un problème - Étape 2 : exploration algorithmique d'un problème\n",
    "## Hoarau Erwan, Lalanne Victor TD2, TP4\n",
    "### Cette version utilise le code donné par la professur pour un bon commencement\n",
    "### Importation des bibliothèques et des fichers que nous allons utiliser"
   ]
  },
  {
   "cell_type": "code",
   "execution_count": null,
   "id": "dacf7466",
   "metadata": {},
   "outputs": [],
   "source": [
    "import pandas as pd\n",
    "import numpy as np\n",
    "import json\n",
    "import os\n",
    "import timeit\n",
    "import math\n",
    "from math import pi, acos, sin, cos, radians\n",
    "\n",
    "# Répertoire par défaut à modifier :\n",
    "os.chdir('x\\x\\x') # Remplacer 'x\\x\\x' par le chemin vers le répertoire contenant les fichiers de données.\n",
    "\n",
    "# Dictionnaire des successeurs\n",
    "with open(\"dicsucc.json\", \"r\") as fichier:\n",
    "    dicSuccCleStr = json.load(fichier)\n",
    "dicSucc = {int(k): v for k, v in dicSuccCleStr.items()}\n",
    "del dicSuccCleStr\n",
    "\n",
    "# Dictionnaire des successeurs avec distance\n",
    "with open(\"dicsuccdist.json\", \"r\") as fichier:\n",
    "    dicSuccDistCleStr = json.load(fichier)\n",
    "dicSuccDist = {int(k): v for k, v in dicSuccDistCleStr.items()}\n",
    "del dicSuccDistCleStr\n",
    "\n",
    "# Chargement des fichiers CSV\n",
    "dfAretes = pd.read_table('aretes.csv', sep=';', index_col=0)\n",
    "dfSommets = pd.read_table('sommets.csv', sep=';', index_col=0)\n",
    "dfMatricePoids = pd.read_csv('matrice_poids.csv', sep=';', index_col=0)\n",
    "dfMatriceAdj = pd.read_csv('matrice_adjacence.csv', sep=';', index_col=0)\n",
    "\n",
    "# Correspondances index <-> sommet\n",
    "correspIndSom = {i: dfMatriceAdj.index[i] for i in range(len(dfMatriceAdj))}\n",
    "correspSomInd = {ind: dfMatriceAdj.index.get_loc(ind) for ind in dfMatriceAdj.index}\n",
    "\n",
    "# Conversion des matrices\n",
    "tabMatAdj = np.array(dfMatriceAdj)\n",
    "n = len(dfMatriceAdj)\n",
    "lstMatAdj = [[tabMatAdj[i, j] for j in range(n)] for i in range(n)]\n",
    "\n",
    "tabMatPoids = np.array(dfMatricePoids)\n",
    "n = len(tabMatPoids)\n",
    "lstMatPoids = [[tabMatPoids[i, j] for j in range(n)] for i in range(n)]\n"
   ]
  },
  {
   "cell_type": "markdown",
   "id": "ec57a90f",
   "metadata": {},
   "source": [
    "## Partie algortimique :\n",
    "\n",
    "Ajout de la fonction heuristique qui est une version modifiée de la fonction distanceGPS"
   ]
  },
  {
   "cell_type": "code",
   "execution_count": null,
   "id": "0a53921e",
   "metadata": {},
   "outputs": [],
   "source": [
    "# Heuristique \n",
    "def heuristique(a, b): # fonction distanceGPS modifiée \n",
    "    \n",
    "\n",
    "    # Récupération des coordonnées depuis le DataFrame\n",
    "    latA = dfSommets.loc[a, 'lat']\n",
    "    lonA = dfSommets.loc[a, 'lon']\n",
    "    latB = dfSommets.loc[b, 'lat']\n",
    "    lonB = dfSommets.loc[b, 'lon']\n",
    "\n",
    "    # Conversion en radians\n",
    "    ltA = radians(latA)\n",
    "    ltB = radians(latB)\n",
    "    loA = radians(lonA)\n",
    "    loB = radians(lonB)\n",
    "\n",
    "    # Rayon de la Terre en mètres\n",
    "    RT = 6378137\n",
    "    # Formule du grand cercle\n",
    "    S = acos(round(sin(ltA) * sin(ltB) + cos(ltA) * cos(ltB) * cos(abs(loB - loA)), 14))\n",
    "\n",
    "    return S * RT  # distance en mètres\n"
   ]
  },
  {
   "cell_type": "markdown",
   "id": "0f345f47",
   "metadata": {},
   "source": [
    "### Algorithme de Dijkstra"
   ]
  },
  {
   "cell_type": "code",
   "execution_count": null,
   "id": "2a22eb27",
   "metadata": {},
   "outputs": [],
   "source": [
    "# Algorithme de Dijkstra\n",
    "def Dijkstra(point_depart, point_arrivee):\n",
    "    # Vérifie que les sommets existent dans le dictionnaire\n",
    "    if point_depart not in dicSuccDist or point_arrivee not in dicSuccDist:\n",
    "        raise ValueError(\"Point de départ ou d'arrivée non valide.\")\n",
    "\n",
    "    # Initialisation des distances à l'infini pour tous les sommets\n",
    "    distances = {point: float('inf') for point in dicSuccDist}\n",
    "    distances[point_depart] = 0  # Distance du point de départ à lui-même = 0\n",
    "\n",
    "    # Dictionnaire pour mémoriser le prédécesseur de chaque sommet\n",
    "    precedent = {point: None for point in dicSuccDist}\n",
    "\n",
    "    # Liste des sommets non encore visités\n",
    "    non_visites = list(dicSuccDist.keys())\n",
    "\n",
    "    while non_visites:\n",
    "        # Sélectionne le sommet non visité avec la plus petite distance connue\n",
    "        sommet_actuel = min(non_visites, key=lambda p: distances[p])\n",
    "\n",
    "        # Si la plus petite distance restante est infinie, on ne peut plus avancer\n",
    "        if distances[sommet_actuel] == float('inf'):\n",
    "            break\n",
    "\n",
    "        # Si on atteint le point d’arrivée, on peut sortir de la boucle\n",
    "        if sommet_actuel == point_arrivee:\n",
    "            break\n",
    "\n",
    "        # Marque ce sommet comme visité\n",
    "        non_visites.remove(sommet_actuel)\n",
    "\n",
    "        # Explore tous les voisins du sommet actuel\n",
    "        for voisin, poids in dicSuccDist.get(sommet_actuel, []):\n",
    "            # Calcule la nouvelle distance via le sommet actuel\n",
    "            nouvelle_distance = distances[sommet_actuel] + poids\n",
    "\n",
    "            # Si cette nouvelle distance est plus courte, on la met à jour\n",
    "            if nouvelle_distance < distances[voisin]:\n",
    "                distances[voisin] = nouvelle_distance\n",
    "                precedent[voisin] = sommet_actuel\n",
    "\n",
    "    # Reconstruction du chemin à partir du dictionnaire des précédents\n",
    "    chemin = []\n",
    "    courant = point_arrivee\n",
    "    while courant is not None:\n",
    "        chemin.insert(0, courant)  # Insère chaque sommet au début de la liste\n",
    "        courant = precedent[courant]\n",
    "\n",
    "    # Si aucune distance n'a été trouvée pour le point d'arrivée\n",
    "    if distances[point_arrivee] == float('inf'):\n",
    "        return [], float('inf')\n",
    "\n",
    "    # Retourne le chemin trouvé et sa distance\n",
    "    return chemin, distances[point_arrivee]\n"
   ]
  },
  {
   "cell_type": "markdown",
   "id": "4bf93d1d",
   "metadata": {},
   "source": [
    "### Fonction de test pour Dijkstra : "
   ]
  },
  {
   "cell_type": "code",
   "execution_count": null,
   "id": "e34bceea",
   "metadata": {},
   "outputs": [],
   "source": [
    "# Fonction de test pour Dijkstra\n",
    "def test_dijkstra():\n",
    "    chemin, distance = Dijkstra(255402679, 2436291971)\n",
    "    print(f\"Chemin trouvé (Dijkstra): {chemin}\")\n",
    "    print(f\"Distance totale (Dijkstra): {distance}\")\n",
    "\n",
    "# Mesurer le temps d'exécution de Dijkstra\n",
    "temps_execution = timeit.timeit('test_dijkstra()', globals=globals(), number=1)\n",
    "print(f\"Temps d'exécution de Dijkstra : {temps_execution:.6f} secondes\")"
   ]
  },
  {
   "cell_type": "markdown",
   "id": "5cb7f61b",
   "metadata": {},
   "source": [
    "### Algorithme de Bellman :"
   ]
  },
  {
   "cell_type": "code",
   "execution_count": null,
   "id": "146e0dfe",
   "metadata": {},
   "outputs": [],
   "source": [
    "# Algorithme de Bellman\n",
    "def Bellman(id_dep, id_arriv):\n",
    "    # Initialisation des distances à l'infini pour tous les sommets\n",
    "    distances = {s: float('inf') for s in dicSuccDist}\n",
    "    distances[id_dep] = 0  # La distance du sommet de départ à lui-même est 0\n",
    "\n",
    "    # Dictionnaire pour mémoriser le prédécesseur de chaque sommet (pour reconstruire le chemin)\n",
    "    previous = {s: None for s in dicSuccDist}\n",
    "\n",
    "    # Relaxation de toutes les arêtes |V| - 1 fois (V = nombre de sommets)\n",
    "    for _ in range(len(dicSuccDist) - 1):\n",
    "        # Pour chaque sommet du graphe\n",
    "        for u in dicSuccDist:\n",
    "            # Pour chaque voisin de u avec sa distance (pondération)\n",
    "            for v, weight in dicSuccDist[u]:\n",
    "                # Si un chemin plus court est trouvé, on le met à jour\n",
    "                if distances[u] + weight < distances[v]:\n",
    "                    distances[v] = distances[u] + weight\n",
    "                    previous[v] = u\n",
    "\n",
    "    # Reconstruction du plus court chemin depuis id_arriv en remontant les prédécesseurs\n",
    "    chemin = []\n",
    "    current = id_arriv\n",
    "    while current is not None:\n",
    "        chemin.insert(0, current)  # On insère les sommets au début du chemin\n",
    "        current = previous[current]  # On remonte vers le prédécesseur\n",
    "\n",
    "    # Retourne la liste des sommets constituant le chemin et la distance totale\n",
    "    return chemin, distances[id_arriv]\n"
   ]
  },
  {
   "cell_type": "markdown",
   "id": "e04ca852",
   "metadata": {},
   "source": [
    "### Fonction de test pour Bellman : "
   ]
  },
  {
   "cell_type": "code",
   "execution_count": null,
   "id": "68f51a62",
   "metadata": {},
   "outputs": [],
   "source": [
    "# Fonction de test pour Bellman-Ford-Kalaba\n",
    "def test_bellman():\n",
    "    chemin, distance = Bellman(255402679, 388382241)\n",
    "    print(f\"Chemin trouvé (Bellman): {chemin}\")\n",
    "    print(f\"Distance totale (Bellman): {distance}\")\n",
    "\n",
    "# Mesure du temps d'exécution de BFK avec timeit (une seule exécution)\n",
    "temps_bellman = timeit.timeit('test_bellman', globals=globals(), number=1)\n",
    "\n",
    "# Affichage du temps d'exécution\n",
    "print(f\"Temps d'exécution de Bellman : {temps_bellman:.6f} secondes\")"
   ]
  },
  {
   "cell_type": "markdown",
   "id": "cde00d28",
   "metadata": {},
   "source": [
    "### Algorithme de Bellman-Ford-Kalaba"
   ]
  },
  {
   "cell_type": "code",
   "execution_count": null,
   "id": "44d63ddc",
   "metadata": {},
   "outputs": [],
   "source": [
    "# Algorithme de Bellman-Ford-Kalaba\n",
    "def BFK(depart, arrive):\n",
    "    n = len(dicSucc)\n",
    "    listeDist = [float(\"inf\")] * n\n",
    "    listeDist[correspSomInd[depart]] = 0\n",
    "    a_traiter = [depart]\n",
    "    pred = [None] * n\n",
    "    for _ in range(len(dicSucc)):\n",
    "        a_traiterFutur = []\n",
    "        for som in a_traiter:\n",
    "            somInd = correspSomInd[som]\n",
    "            for succ, poids in dicSuccDist[som]:\n",
    "                succInd = correspSomInd[succ]\n",
    "                if listeDist[succInd] > listeDist[somInd] + poids:\n",
    "                    listeDist[succInd] = listeDist[somInd] + poids\n",
    "                    pred[succInd] = som\n",
    "                    a_traiterFutur.append(succ)\n",
    "        a_traiter = a_traiterFutur\n",
    "\n",
    "    chemin = []\n",
    "    courant = arrive\n",
    "    while courant is not None:\n",
    "        chemin.insert(0, courant)\n",
    "        courant = pred[correspSomInd[courant]]\n",
    "\n",
    "    if listeDist[correspSomInd[arrive]] == float('inf'):\n",
    "        return [depart], float('inf')\n",
    "    return chemin,listeDist[correspSomInd[arrive]]"
   ]
  },
  {
   "cell_type": "markdown",
   "id": "082e9162",
   "metadata": {},
   "source": [
    "### Fonction de test pour Bellman-Ford-Kalaba"
   ]
  },
  {
   "cell_type": "code",
   "execution_count": null,
   "id": "cdf6bdf6",
   "metadata": {},
   "outputs": [],
   "source": [
    "# Fonction de test pour BFK\n",
    "def test_bfk():\n",
    "    chemin, distance = BFK(388382398, 1888303671)\n",
    "    print(f\"Chemin trouvé (BFK): {chemin}\")\n",
    "    print(f\"Distance totale (BFK): {distance}\")\n",
    "\n",
    "# Mesurer le temps d'exécution de BFK\n",
    "temps_bfk = timeit.timeit('test_bfk()', globals=globals(), number=1)\n",
    "print(f\"Temps d'exécution de BFK : {temps_bfk:.6f} secondes\")"
   ]
  },
  {
   "cell_type": "markdown",
   "id": "4e1e1a2b",
   "metadata": {},
   "source": [
    "## Algorithme de A*"
   ]
  },
  {
   "cell_type": "code",
   "execution_count": null,
   "id": "34c1ce66",
   "metadata": {},
   "outputs": [],
   "source": [
    "# Algorithme A*\n",
    "def A_Star(point_depart, point_arrivee):\n",
    "    if point_depart not in dicSuccDist or point_arrivee not in dicSuccDist:\n",
    "        raise ValueError(\"Point de départ ou d'arrivée non valide.\")\n",
    "\n",
    "    # Initialisation\n",
    "    distances = {point: float('inf') for point in dicSuccDist}\n",
    "    distances[point_depart] = 0\n",
    "    precedent = {point: None for point in dicSuccDist}\n",
    "    f_scores = {point: float('inf') for point in dicSuccDist}\n",
    "    f_scores[point_depart] = heuristique(point_depart, point_arrivee)\n",
    "\n",
    "    non_visites = list(dicSuccDist.keys())\n",
    "\n",
    "    while non_visites:\n",
    "        # Chercher le sommet non visité avec la plus petite f(n)\n",
    "        sommet_actuel = min(non_visites, key=lambda p: f_scores[p])\n",
    "\n",
    "        if f_scores[sommet_actuel] == float('inf'):\n",
    "            break  # Aucun chemin disponible\n",
    "\n",
    "        if sommet_actuel == point_arrivee:\n",
    "            break  # On a trouvé le chemin\n",
    "\n",
    "        non_visites.remove(sommet_actuel)\n",
    "\n",
    "        # Pour chaque voisin du sommet actuel\n",
    "        for voisin, poids in dicSuccDist.get(sommet_actuel, []):\n",
    "            tentative_g = distances[sommet_actuel] + poids\n",
    "            f_voisin = tentative_g + heuristique(voisin, point_arrivee)\n",
    "\n",
    "            if tentative_g < distances[voisin]:\n",
    "                distances[voisin] = tentative_g\n",
    "                precedent[voisin] = sommet_actuel\n",
    "                f_scores[voisin] = f_voisin\n",
    "\n",
    "    # Reconstruction du chemin\n",
    "    \n",
    "    chemin = []\n",
    "    courant = point_arrivee\n",
    "    while courant is not None:\n",
    "        chemin.insert(0, courant)\n",
    "        courant = precedent[courant]\n",
    "\n",
    "    if distances[point_arrivee] == float('inf'):\n",
    "        return [], float('inf')\n",
    "\n",
    "    return chemin, distances[point_arrivee]"
   ]
  },
  {
   "cell_type": "markdown",
   "id": "faf558e1",
   "metadata": {},
   "source": [
    "### Fonction de test pour A*"
   ]
  },
  {
   "cell_type": "code",
   "execution_count": null,
   "id": "7704f486",
   "metadata": {},
   "outputs": [],
   "source": [
    "def test_a_star():\n",
    "    chemin, distance = A_Star(255402679, 2436291971)\n",
    "    print(f\"Chemin trouvé (A*) : {chemin}\")\n",
    "    print(f\"Distance totale (A*) : {distance:.2f} mètres\")\n",
    "\n",
    "# Mesurer le temps d'exécution de A*\n",
    "temps_a_star = timeit.timeit('test_a_star()', globals=globals(), number=1)  \n",
    "print(f\"Temps d'exécution de A* : {temps_a_star:.6f} secondes\")"
   ]
  },
  {
   "cell_type": "markdown",
   "id": "0ab275e1",
   "metadata": {},
   "source": [
    "### Comparaison des temps pour les 4 fonctions : "
   ]
  },
  {
   "cell_type": "code",
   "execution_count": null,
   "id": "a652c803",
   "metadata": {},
   "outputs": [],
   "source": [
    "print(f\"Comparaison entre les 4 temps : {temps_bellman:.6f} secondes pour Bellman, {temps_bfk:.6f} pour BFK, {temps_execution:.6f} secondes pour Dijkstra et {temps_a_star:.6f} pour A*.\")\n",
    "\n",
    "if temps_bellman <= temps_bfk and temps_bellman <= temps_execution and temps_bellman <= temps_a_star:\n",
    "    print(\"Le meilleur algorithme est Bellman\")\n",
    "elif temps_bfk <= temps_bellman and temps_bfk <= temps_execution and temps_bfk <= temps_a_star:\n",
    "    print(\"Le meilleur algorithme est BFK\")\n",
    "elif temps_execution <= temps_bellman and temps_execution <= temps_bfk and temps_execution <= temps_a_star:\n",
    "    print(\"Le meilleur algorithme est Dijkstra\")\n",
    "else:\n",
    "    print(\"Le meilleur algorithme est A*\")"
   ]
  }
 ],
 "metadata": {
  "language_info": {
   "name": "python"
  }
 },
 "nbformat": 4,
 "nbformat_minor": 5
}
